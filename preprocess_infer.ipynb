{
 "metadata": {
  "language_info": {
   "codemirror_mode": {
    "name": "ipython",
    "version": 3
   },
   "file_extension": ".py",
   "mimetype": "text/x-python",
   "name": "python",
   "nbconvert_exporter": "python",
   "pygments_lexer": "ipython3",
   "version": "3.8.1"
  },
  "orig_nbformat": 2,
  "kernelspec": {
   "name": "python381jvsc74a57bd06ec2f8283b44455c0c02144af1e6304dbae5bb6cf5ae4e4e398fd1ff3d517e19",
   "display_name": "Python 3.8.1 64-bit"
  }
 },
 "nbformat": 4,
 "nbformat_minor": 2,
 "cells": [
  {
   "cell_type": "code",
   "execution_count": 1,
   "metadata": {},
   "outputs": [],
   "source": [
    "from PIL import Image\n",
    "import os\n",
    "\n",
    "INFER_RAW_FOLDER = \"./data/Infer_Raw/\"\n",
    "INFER_INPUT_FOLDER = \"./data/Infer_Input/\"\n",
    "os.makedirs(INFER_RAW_FOLDER, exist_ok=True)\n",
    "os.makedirs(INFER_INPUT_FOLDER, exist_ok=True)\n",
    "\n",
    "skip_existing = True"
   ]
  },
  {
   "cell_type": "code",
   "execution_count": 9,
   "metadata": {},
   "outputs": [
    {
     "output_type": "stream",
     "name": "stdout",
     "text": [
      "1416 1080\n",
      "252\n",
      "1416 1080\n",
      "252\n",
      "1416 1080\n",
      "252\n",
      "1416 1080\n",
      "252\n",
      "1416 1080\n",
      "252\n",
      "1416 1080\n",
      "252\n",
      "1416 1080\n",
      "252\n"
     ]
    }
   ],
   "source": [
    "for f in os.listdir(INFER_RAW_FOLDER):\n",
    "    save_path = os.path.join(INFER_INPUT_FOLDER, f)\n",
    "    if skip_existing and os.path.exists(save_path):\n",
    "        continue\n",
    "\n",
    "    im = Image.open(os.path.join(INFER_RAW_FOLDER, f))\n",
    "    width, height = im.size\n",
    "\n",
    "    target_width = 1920\n",
    "    target_height = 1080\n",
    "    print(width, height)\n",
    "    im1 = None\n",
    "    im2 = None\n",
    "    if width > target_width:\n",
    "        left = (width - target_width) / 2\n",
    "        im1 = im.crop((left, 0, width - left, height))\n",
    "    elif target_width > width:\n",
    "        left = int((target_width - width) / 2)\n",
    "        im1 = Image.new(im.mode, (target_width, height), (0, 0, 0))\n",
    "        im1.paste(im, (left, 0))\n",
    "    else:\n",
    "        im1 = im\n",
    "\n",
    "    if height > target_height:\n",
    "        top = (height - target_height) / 2\n",
    "        im2 = im1.crop((0, top, target_width, height - top))\n",
    "    elif target_height > height:\n",
    "        top = int((target_height - height) / 2)\n",
    "        im2 = Image.new(im1.mode, (target_width, target_height), (0, 0, 0))\n",
    "        im2.paste(im1, (0, top))\n",
    "    else:\n",
    "        im2 = im1\n",
    "\n",
    "    im2.save(save_path)"
   ]
  },
  {
   "cell_type": "code",
   "execution_count": null,
   "metadata": {},
   "outputs": [],
   "source": []
  }
 ]
}