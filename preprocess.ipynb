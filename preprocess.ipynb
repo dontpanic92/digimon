{
  "cells": [
    {
      "cell_type": "code",
      "source": [
        "from PIL import Image\n",
        "from multiprocessing import Pool\n",
        "\n",
        "import os\n",
        "\n",
        "LOAD_RAW_FOLDER = \"crawlers/images/full/\"\n",
        "SAVE_4K_FOLDER = \"./data/4k/\"\n",
        "SAVE_1080_FOLDER = \"./data/1080/\"\n",
        "SAVE_540_FOLDER = \"./data/540/\"\n",
        "SAVE_270_FOLDER = \"./data/270/\"\n",
        "os.makedirs(SAVE_4K_FOLDER, exist_ok=True)\n",
        "os.makedirs(SAVE_1080_FOLDER, exist_ok=True)\n",
        "os.makedirs(SAVE_540_FOLDER, exist_ok=True)\n",
        "os.makedirs(SAVE_270_FOLDER, exist_ok=True)\n",
        "\n",
        "skip_existing = True"
      ],
      "outputs": [],
      "execution_count": 6,
      "metadata": {
        "gather": {
          "logged": 1623169285292
        }
      }
    },
    {
      "cell_type": "code",
      "source": [
        "for f in os.listdir(LOAD_RAW_FOLDER):\n",
        "    save_path = os.path.join(SAVE_4K_FOLDER, f)\n",
        "    if skip_existing and os.path.exists(save_path):\n",
        "        continue\n",
        "\n",
        "    im = Image.open(os.path.join(LOAD_RAW_FOLDER, f))\n",
        "    width, height = im.size\n",
        "\n",
        "    target_width = 3840\n",
        "    target_height = 2160\n",
        "    im1 = None\n",
        "    im2 = None\n",
        "    if width > target_width:\n",
        "        left = (width - target_width) / 2\n",
        "        im1 = im.crop((left, 0, width - left, height))\n",
        "    elif target_width > width:\n",
        "        left = (target_width - width) / 2\n",
        "        im1 = Image.new(im.mode, (target_width, height), (0, 0, 0))\n",
        "        im1.paste(im, (left, 0))\n",
        "    else:\n",
        "        im1 = im\n",
        "\n",
        "    if height > target_height:\n",
        "        top = (height - target_height) / 2\n",
        "        im2 = im1.crop((0, top, target_width, height - top))\n",
        "    elif target_height > height:\n",
        "        top = (target_height - height) / 2\n",
        "        im2 = Image.new(im1.mode, (target_width, target_height), (0, 0, 0))\n",
        "        im2.paste(im1, (0, top))\n",
        "    else:\n",
        "        im2 = im1\n",
        "\n",
        "    im2.save(save_path)"
      ],
      "outputs": [
        {
          "output_type": "stream",
          "name": "stderr",
          "text": [
            "/anaconda/envs/azureml_py38/lib/python3.8/site-packages/PIL/Image.py:2855: DecompressionBombWarning: Image size (150969345 pixels) exceeds limit of 89478485 pixels, could be decompression bomb DOS attack.\n",
            "  warnings.warn(\n",
            "/anaconda/envs/azureml_py38/lib/python3.8/site-packages/PIL/Image.py:2855: DecompressionBombWarning: Image size (120744088 pixels) exceeds limit of 89478485 pixels, could be decompression bomb DOS attack.\n",
            "  warnings.warn(\n",
            "/anaconda/envs/azureml_py38/lib/python3.8/site-packages/PIL/Image.py:2855: DecompressionBombWarning: Image size (126570000 pixels) exceeds limit of 89478485 pixels, could be decompression bomb DOS attack.\n",
            "  warnings.warn(\n",
            "/anaconda/envs/azureml_py38/lib/python3.8/site-packages/PIL/Image.py:2855: DecompressionBombWarning: Image size (144000000 pixels) exceeds limit of 89478485 pixels, could be decompression bomb DOS attack.\n",
            "  warnings.warn(\n",
            "/anaconda/envs/azureml_py38/lib/python3.8/site-packages/PIL/Image.py:2855: DecompressionBombWarning: Image size (100444051 pixels) exceeds limit of 89478485 pixels, could be decompression bomb DOS attack.\n",
            "  warnings.warn(\n",
            "/anaconda/envs/azureml_py38/lib/python3.8/site-packages/PIL/Image.py:2855: DecompressionBombWarning: Image size (104676439 pixels) exceeds limit of 89478485 pixels, could be decompression bomb DOS attack.\n",
            "  warnings.warn(\n",
            "/anaconda/envs/azureml_py38/lib/python3.8/site-packages/PIL/Image.py:2855: DecompressionBombWarning: Image size (137473998 pixels) exceeds limit of 89478485 pixels, could be decompression bomb DOS attack.\n",
            "  warnings.warn(\n",
            "/anaconda/envs/azureml_py38/lib/python3.8/site-packages/PIL/Image.py:2855: DecompressionBombWarning: Image size (132710400 pixels) exceeds limit of 89478485 pixels, could be decompression bomb DOS attack.\n",
            "  warnings.warn(\n",
            "/anaconda/envs/azureml_py38/lib/python3.8/site-packages/PIL/Image.py:2855: DecompressionBombWarning: Image size (136599752 pixels) exceeds limit of 89478485 pixels, could be decompression bomb DOS attack.\n",
            "  warnings.warn(\n",
            "/anaconda/envs/azureml_py38/lib/python3.8/site-packages/PIL/Image.py:2855: DecompressionBombWarning: Image size (92807691 pixels) exceeds limit of 89478485 pixels, could be decompression bomb DOS attack.\n",
            "  warnings.warn(\n",
            "/anaconda/envs/azureml_py38/lib/python3.8/site-packages/PIL/Image.py:2855: DecompressionBombWarning: Image size (105525420 pixels) exceeds limit of 89478485 pixels, could be decompression bomb DOS attack.\n",
            "  warnings.warn(\n",
            "/anaconda/envs/azureml_py38/lib/python3.8/site-packages/PIL/Image.py:2855: DecompressionBombWarning: Image size (128563472 pixels) exceeds limit of 89478485 pixels, could be decompression bomb DOS attack.\n",
            "  warnings.warn(\n",
            "/anaconda/envs/azureml_py38/lib/python3.8/site-packages/PIL/Image.py:2855: DecompressionBombWarning: Image size (94072800 pixels) exceeds limit of 89478485 pixels, could be decompression bomb DOS attack.\n",
            "  warnings.warn(\n",
            "/anaconda/envs/azureml_py38/lib/python3.8/site-packages/PIL/Image.py:2855: DecompressionBombWarning: Image size (96874176 pixels) exceeds limit of 89478485 pixels, could be decompression bomb DOS attack.\n",
            "  warnings.warn(\n",
            "/anaconda/envs/azureml_py38/lib/python3.8/site-packages/PIL/Image.py:2855: DecompressionBombWarning: Image size (156303126 pixels) exceeds limit of 89478485 pixels, could be decompression bomb DOS attack.\n",
            "  warnings.warn(\n",
            "/anaconda/envs/azureml_py38/lib/python3.8/site-packages/PIL/Image.py:2855: DecompressionBombWarning: Image size (157071524 pixels) exceeds limit of 89478485 pixels, could be decompression bomb DOS attack.\n",
            "  warnings.warn(\n",
            "/anaconda/envs/azureml_py38/lib/python3.8/site-packages/PIL/Image.py:2855: DecompressionBombWarning: Image size (98476344 pixels) exceeds limit of 89478485 pixels, could be decompression bomb DOS attack.\n",
            "  warnings.warn(\n",
            "/anaconda/envs/azureml_py38/lib/python3.8/site-packages/PIL/Image.py:2855: DecompressionBombWarning: Image size (94045928 pixels) exceeds limit of 89478485 pixels, could be decompression bomb DOS attack.\n",
            "  warnings.warn(\n"
          ]
        }
      ],
      "execution_count": 2,
      "metadata": {
        "gather": {
          "logged": 1622964007483
        }
      }
    },
    {
      "cell_type": "code",
      "source": [
        "for f in os.listdir(SAVE_4K_FOLDER):\n",
        "    if f.startswith('.'):\n",
        "        continue\n",
        "    save_path = os.path.join(SAVE_540_FOLDER, f)\n",
        "    if skip_existing and os.path.exists(save_path):\n",
        "        continue\n",
        "\n",
        "    im = Image.open(os.path.join(SAVE_4K_FOLDER, f))\n",
        "    target_size = (960, 540)\n",
        "    im = im.resize(target_size)\n",
        "    im.save(save_path, \"PNG\")"
      ],
      "outputs": [],
      "execution_count": 3,
      "metadata": {
        "gather": {
          "logged": 1622968039583
        }
      }
    },
    {
      "cell_type": "code",
      "source": [
        "\r\n",
        "# clip = [(0, 0, 1920, 1080), (1920, 0, 3840, 1080), (0, 1080, 1920, 2160), (1920, 1080, 3840, 2160)]\r\n",
        "\r\n",
        "def f_1080(f):\r\n",
        "    if f.startswith('.'):\r\n",
        "        return\r\n",
        "    \r\n",
        "    \"\"\"im = Image.open(os.path.join(SAVE_4K_FOLDER, f))\r\n",
        "    for i in range(0, 4):\r\n",
        "        save_path = os.path.join(SAVE_1080_FOLDER, str(i) + \"_\" + f)\r\n",
        "        if skip_existing and os.path.exists(save_path):\r\n",
        "            continue\r\n",
        "\r\n",
        "        im2 = im.crop(clip[i])\r\n",
        "        im2.save(save_path, \"PNG\")\"\"\"\r\n",
        "\r\n",
        "    save_path = os.path.join(SAVE_1080_FOLDER, f)\r\n",
        "    if skip_existing and os.path.exists(save_path):\r\n",
        "        return\r\n",
        "\r\n",
        "    im = Image.open(os.path.join(SAVE_4K_FOLDER, f))\r\n",
        "    target_size = (1920, 1080)\r\n",
        "    im = im.resize(target_size)\r\n",
        "    im.save(save_path, \"PNG\")\r\n",
        "\r\n",
        "\r\n",
        "with Pool(4) as p:\r\n",
        "    p.map(f_1080, os.listdir(SAVE_4K_FOLDER))"
      ],
      "outputs": [],
      "execution_count": 12,
      "metadata": {
        "gather": {
          "logged": 1623068604090
        }
      }
    },
    {
      "cell_type": "code",
      "source": [
        "def fix_1080(f):\r\n",
        "    if f.startswith('.'):\r\n",
        "        return\r\n",
        "    try:\r\n",
        "        save_path = os.path.join(SAVE_4K_FOLDER, f)\r\n",
        "        im = Image.open(save_path)\r\n",
        "    except Exception as e:\r\n",
        "        print(e)\r\n",
        "\r\n",
        "with Pool(6) as p:\r\n",
        "    p.map(fix_1080, os.listdir(SAVE_4K_FOLDER))"
      ],
      "outputs": [],
      "execution_count": 9,
      "metadata": {
        "collapsed": true,
        "jupyter": {
          "source_hidden": false,
          "outputs_hidden": false
        },
        "nteract": {
          "transient": {
            "deleting": false
          }
        },
        "gather": {
          "logged": 1623056517065
        }
      }
    },
    {
      "cell_type": "code",
      "source": [
        "def f_270(f):\r\n",
        "    if f.startswith('.'):\r\n",
        "        return\r\n",
        "\r\n",
        "    save_path = os.path.join(SAVE_270_FOLDER, f)\r\n",
        "    if skip_existing and os.path.exists(save_path):\r\n",
        "        return\r\n",
        "\r\n",
        "    im = Image.open(os.path.join(SAVE_4K_FOLDER, f))\r\n",
        "    target_size = (480, 270)\r\n",
        "    im = im.resize(target_size)\r\n",
        "    im.save(save_path, \"PNG\")\r\n",
        "\r\n",
        "\r\n",
        "with Pool(6) as p:\r\n",
        "    p.map(f_270, os.listdir(SAVE_4K_FOLDER))"
      ],
      "outputs": [],
      "execution_count": 7,
      "metadata": {
        "collapsed": true,
        "jupyter": {
          "source_hidden": false,
          "outputs_hidden": false
        },
        "nteract": {
          "transient": {
            "deleting": false
          }
        },
        "gather": {
          "logged": 1623170389184
        }
      }
    },
    {
      "cell_type": "code",
      "source": [],
      "outputs": [],
      "execution_count": null,
      "metadata": {
        "collapsed": true,
        "jupyter": {
          "source_hidden": false,
          "outputs_hidden": false
        },
        "nteract": {
          "transient": {
            "deleting": false
          }
        }
      }
    }
  ],
  "metadata": {
    "language_info": {
      "name": "python",
      "version": "3.8.1",
      "mimetype": "text/x-python",
      "codemirror_mode": {
        "name": "ipython",
        "version": 3
      },
      "pygments_lexer": "ipython3",
      "nbconvert_exporter": "python",
      "file_extension": ".py"
    },
    "orig_nbformat": 2,
    "kernelspec": {
      "name": "python38-azureml",
      "language": "python",
      "display_name": "Python 3.8 - AzureML"
    },
    "kernel_info": {
      "name": "python38-azureml"
    },
    "microsoft": {
      "host": {
        "AzureML": {
          "notebookHasBeenCompleted": true
        }
      }
    },
    "nteract": {
      "version": "nteract-front-end@1.0.0"
    }
  },
  "nbformat": 4,
  "nbformat_minor": 2
}