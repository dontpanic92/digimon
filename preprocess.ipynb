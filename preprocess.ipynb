{
 "metadata": {
  "language_info": {
   "codemirror_mode": {
    "name": "ipython",
    "version": 3
   },
   "file_extension": ".py",
   "mimetype": "text/x-python",
   "name": "python",
   "nbconvert_exporter": "python",
   "pygments_lexer": "ipython3",
   "version": "3.8.1"
  },
  "orig_nbformat": 2,
  "kernelspec": {
   "name": "python381jvsc74a57bd06ec2f8283b44455c0c02144af1e6304dbae5bb6cf5ae4e4e398fd1ff3d517e19",
   "display_name": "Python 3.8.1 64-bit"
  }
 },
 "nbformat": 4,
 "nbformat_minor": 2,
 "cells": [
  {
   "cell_type": "code",
   "execution_count": 2,
   "metadata": {},
   "outputs": [],
   "source": [
    "from PIL import Image\n",
    "import os\n",
    "\n",
    "LOAD_RAW_FOLDER = \"crawlers/images/full/\"\n",
    "SAVE_4K_FOLDER = \"./data/4k/\"\n",
    "SAVE_540_FOLDER = \"./data/540/\"\n",
    "os.makedirs(SAVE_4K_FOLDER, exist_ok=True)\n",
    "os.makedirs(SAVE_540_FOLDER, exist_ok=True)\n",
    "\n",
    "skip_existing = True"
   ]
  },
  {
   "cell_type": "code",
   "execution_count": 3,
   "metadata": {},
   "outputs": [
    {
     "output_type": "stream",
     "name": "stderr",
     "text": [
      "C:\\Users\\dontpanic\\AppData\\Local\\Programs\\Python\\Python38\\lib\\site-packages\\PIL\\Image.py:2855: DecompressionBombWarning: Image size (144000000 pixels) exceeds limit of 89478485 pixels, could be decompression bomb DOS attack.\n",
      "  warnings.warn(\n",
      "C:\\Users\\dontpanic\\AppData\\Local\\Programs\\Python\\Python38\\lib\\site-packages\\PIL\\Image.py:2855: DecompressionBombWarning: Image size (117839442 pixels) exceeds limit of 89478485 pixels, could be decompression bomb DOS attack.\n",
      "  warnings.warn(\n",
      "C:\\Users\\dontpanic\\AppData\\Local\\Programs\\Python\\Python38\\lib\\site-packages\\PIL\\Image.py:2855: DecompressionBombWarning: Image size (97934004 pixels) exceeds limit of 89478485 pixels, could be decompression bomb DOS attack.\n",
      "  warnings.warn(\n",
      "C:\\Users\\dontpanic\\AppData\\Local\\Programs\\Python\\Python38\\lib\\site-packages\\PIL\\Image.py:2855: DecompressionBombWarning: Image size (169382400 pixels) exceeds limit of 89478485 pixels, could be decompression bomb DOS attack.\n",
      "  warnings.warn(\n",
      "C:\\Users\\dontpanic\\AppData\\Local\\Programs\\Python\\Python38\\lib\\site-packages\\PIL\\Image.py:2855: DecompressionBombWarning: Image size (178254648 pixels) exceeds limit of 89478485 pixels, could be decompression bomb DOS attack.\n",
      "  warnings.warn(\n",
      "C:\\Users\\dontpanic\\AppData\\Local\\Programs\\Python\\Python38\\lib\\site-packages\\PIL\\Image.py:2855: DecompressionBombWarning: Image size (171903525 pixels) exceeds limit of 89478485 pixels, could be decompression bomb DOS attack.\n",
      "  warnings.warn(\n",
      "C:\\Users\\dontpanic\\AppData\\Local\\Programs\\Python\\Python38\\lib\\site-packages\\PIL\\Image.py:2855: DecompressionBombWarning: Image size (132710400 pixels) exceeds limit of 89478485 pixels, could be decompression bomb DOS attack.\n",
      "  warnings.warn(\n",
      "C:\\Users\\dontpanic\\AppData\\Local\\Programs\\Python\\Python38\\lib\\site-packages\\PIL\\Image.py:2855: DecompressionBombWarning: Image size (109441860 pixels) exceeds limit of 89478485 pixels, could be decompression bomb DOS attack.\n",
      "  warnings.warn(\n",
      "C:\\Users\\dontpanic\\AppData\\Local\\Programs\\Python\\Python38\\lib\\site-packages\\PIL\\Image.py:2855: DecompressionBombWarning: Image size (93135501 pixels) exceeds limit of 89478485 pixels, could be decompression bomb DOS attack.\n",
      "  warnings.warn(\n",
      "C:\\Users\\dontpanic\\AppData\\Local\\Programs\\Python\\Python38\\lib\\site-packages\\PIL\\Image.py:2855: DecompressionBombWarning: Image size (105206166 pixels) exceeds limit of 89478485 pixels, could be decompression bomb DOS attack.\n",
      "  warnings.warn(\n",
      "C:\\Users\\dontpanic\\AppData\\Local\\Programs\\Python\\Python38\\lib\\site-packages\\PIL\\Image.py:2855: DecompressionBombWarning: Image size (97906800 pixels) exceeds limit of 89478485 pixels, could be decompression bomb DOS attack.\n",
      "  warnings.warn(\n",
      "C:\\Users\\dontpanic\\AppData\\Local\\Programs\\Python\\Python38\\lib\\site-packages\\PIL\\Image.py:2855: DecompressionBombWarning: Image size (137034246 pixels) exceeds limit of 89478485 pixels, could be decompression bomb DOS attack.\n",
      "  warnings.warn(\n"
     ]
    }
   ],
   "source": [
    "for f in os.listdir(LOAD_RAW_FOLDER):\n",
    "    save_path = os.path.join(SAVE_4K_FOLDER, f)\n",
    "    if skip_existing and os.path.exists(save_path):\n",
    "        continue\n",
    "\n",
    "    im = Image.open(os.path.join(LOAD_RAW_FOLDER, f))\n",
    "    width, height = im.size\n",
    "\n",
    "    target_width = 3840\n",
    "    target_height = 2160\n",
    "    im1 = None\n",
    "    im2 = None\n",
    "    if width > target_width:\n",
    "        left = (width - target_width) / 2\n",
    "        im1 = im.crop((left, 0, width - left, height))\n",
    "    elif target_width > width:\n",
    "        left = (target_width - width) / 2\n",
    "        im1 = Image.new(im.mode, (target_width, height), (0, 0, 0))\n",
    "        im1.paste(im, (left, 0))\n",
    "    else:\n",
    "        im1 = im\n",
    "\n",
    "    if height > target_height:\n",
    "        top = (height - target_height) / 2\n",
    "        im2 = im1.crop((0, top, target_width, height - top))\n",
    "    elif target_height > height:\n",
    "        top = (target_height - height) / 2\n",
    "        im2 = Image.new(im1.mode, (target_width, target_height), (0, 0, 0))\n",
    "        im2.paste(im1, (0, top))\n",
    "    else:\n",
    "        im2 = im1\n",
    "\n",
    "    im2.save(save_path)"
   ]
  },
  {
   "cell_type": "code",
   "execution_count": 4,
   "metadata": {},
   "outputs": [],
   "source": [
    "for f in os.listdir(SAVE_4K_FOLDER):\n",
    "    save_path = os.path.join(SAVE_540_FOLDER, f)\n",
    "    if skip_existing and os.path.exists(save_path):\n",
    "        continue\n",
    "\n",
    "    im = Image.open(os.path.join(SAVE_4K_FOLDER, f))\n",
    "    target_size = (960, 540)\n",
    "    im = im.resize(target_size)\n",
    "    im.save(save_path, \"PNG\")"
   ]
  },
  {
   "cell_type": "code",
   "execution_count": null,
   "metadata": {},
   "outputs": [],
   "source": []
  }
 ]
}